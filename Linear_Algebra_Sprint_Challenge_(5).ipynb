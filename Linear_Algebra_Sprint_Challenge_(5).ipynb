{
  "nbformat": 4,
  "nbformat_minor": 0,
  "metadata": {
    "colab": {
      "name": "Linear_Algebra_Sprint_Challenge (5).ipynb",
      "provenance": [],
      "collapsed_sections": [],
      "include_colab_link": true
    },
    "kernelspec": {
      "name": "python3",
      "display_name": "Python 3"
    }
  },
  "cells": [
    {
      "cell_type": "markdown",
      "metadata": {
        "id": "view-in-github",
        "colab_type": "text"
      },
      "source": [
        "<a href=\"https://colab.research.google.com/github/BoWarburton/DS-Unit-1-Sprint-3-Linear-Algebra/blob/master/Linear_Algebra_Sprint_Challenge_(5).ipynb\" target=\"_parent\"><img src=\"https://colab.research.google.com/assets/colab-badge.svg\" alt=\"Open In Colab\"/></a>"
      ]
    },
    {
      "cell_type": "markdown",
      "metadata": {
        "id": "-wQxiT7yC4_v",
        "colab_type": "text"
      },
      "source": [
        "#Linear Algebra"
      ]
    },
    {
      "cell_type": "markdown",
      "metadata": {
        "id": "aiUlaNJkECCL",
        "colab_type": "text"
      },
      "source": [
        "## 1.1 Graph vector $\\vec{a}$ \n",
        "\n",
        "\\begin{align}\n",
        "\\vec{a} = \\begin{bmatrix} 3 \\\\ 2 \\end{bmatrix}\n",
        "\\end{align}"
      ]
    },
    {
      "cell_type": "markdown",
      "metadata": {
        "id": "qp9L5aWXYuB9",
        "colab_type": "text"
      },
      "source": [
        "*A vector can be thought of as an arrow with direction and magnitude or the point where the tip of the arrow lies. The plot below shows this graphically.*"
      ]
    },
    {
      "cell_type": "code",
      "metadata": {
        "id": "gX4G-bLzZDWm",
        "colab_type": "code",
        "colab": {}
      },
      "source": [
        "# Import libraries\n",
        "import pandas as pd\n",
        "import numpy as np\n",
        "import matplotlib.pyplot as plt\n",
        "import seaborn as sns\n",
        "import numpy.linalg as linalg\n",
        "from mpl_toolkits.mplot3d import Axes3D\n",
        "from numpy import array\n",
        "from sklearn.preprocessing import StandardScaler\n",
        "from sklearn.decomposition import PCA\n",
        "from sklearn.cluster import KMeans\n",
        "from sklearn import metrics\n",
        "from scipy.spatial.distance import cdist"
      ],
      "execution_count": 0,
      "outputs": []
    },
    {
      "cell_type": "code",
      "metadata": {
        "id": "HSgFu8dnZIw6",
        "colab_type": "code",
        "colab": {
          "base_uri": "https://localhost:8080/",
          "height": 281
        },
        "outputId": "496cf48d-fd16-445b-9fbe-6905cd02e8d8"
      },
      "source": [
        "# Define vector as a Python list, then cast that list into a NumPy array and plot\n",
        "vector_a = [3, 2]\n",
        "vector_a = np.array(vector_a)\n",
        "plt.arrow(0, 0, vector_a[0], vector_a[1], head_width=0.1, head_length=0.15, color = 'g')\n",
        "plt.xlim(0,5)         \n",
        "plt.ylim(0,5)\n",
        "plt.title(\"Vector a\")\n",
        "plt.show()"
      ],
      "execution_count": 11,
      "outputs": [
        {
          "output_type": "display_data",
          "data": {
            "image/png": "[encoded data removed]",
            "text/plain": [
              "<Figure size 432x288 with 1 Axes>"
            ]
          },
          "metadata": {
            "tags": []
          }
        }
      ]
    },
    {
      "cell_type": "markdown",
      "metadata": {
        "id": "BDLB08NXEiUN",
        "colab_type": "text"
      },
      "source": [
        "## 1.2 Find $||\\vec{b}||$. What does the norm of a vector represent?\n",
        "\\begin{align}\n",
        "\\vec{b} = \\begin{bmatrix} 17 & -4 & -2 & 1\\end{bmatrix}\n",
        "\\end{align}\n",
        "\n",
        "*The norm of a vector is its length or magnitude. If we think of a vector as points that define where the tip of an arrow lands in n-dimensional space, then the norm (length) of the arrow can be found by taking the square root of the sum of the squares of the vector's components. (Pythagorean Theorem shows this in the case of two dimensions.)*\n",
        "\n",
        "In this case:\n",
        "\\begin{align}\n",
        "||\\vec{b}|| = \\sqrt{17^2 + -4^2 + -2^2 + 1^2)} = 17.6068...\n",
        "\\end{align}\n"
      ]
    },
    {
      "cell_type": "code",
      "metadata": {
        "id": "Fp3mocAKIfGD",
        "colab_type": "code",
        "colab": {
          "base_uri": "https://localhost:8080/",
          "height": 34
        },
        "outputId": "b12ad275-5045-4b26-9d4b-69111ff584df"
      },
      "source": [
        "# Check my math with linalg\n",
        "import math\n",
        "b = np.array([17, -4, -2, 1])\n",
        "b_norm = np.linalg.norm(b)\n",
        "print('b_norm', b_norm)"
      ],
      "execution_count": 17,
      "outputs": [
        {
          "output_type": "stream",
          "text": [
            "b_norm 17.60681686165901\n"
          ],
          "name": "stdout"
        }
      ]
    },
    {
      "cell_type": "markdown",
      "metadata": {
        "id": "vBbJ0ZyPD6RG",
        "colab_type": "text"
      },
      "source": [
        "## 1.3 Find $\\vec{c} \\cdot \\vec{d}$ - Are these vectors orthogonal? Why or why not?\n",
        "\n",
        "\\begin{align}\n",
        "\\vec{c} = \\begin{bmatrix}3 & 7 & -2 & 12\\end{bmatrix}\n",
        "\\qquad\n",
        "\\vec{d} = \\begin{bmatrix}9 & -7 & 4 & 6\\end{bmatrix}\n",
        "\\end{align}"
      ]
    },
    {
      "cell_type": "markdown",
      "metadata": {
        "id": "w_MQAP4yroIX",
        "colab_type": "text"
      },
      "source": [
        "\\begin{align}\n",
        "\\vec{c} \\cdot \\vec{d} = (3\\times9) + (7\\times-7) + (-2\\times4) + 12\\times6) = 42\n",
        "\\end{align}\n",
        "\n",
        "### These vectors are not orthogonal because their dot product does not equal zero"
      ]
    },
    {
      "cell_type": "code",
      "metadata": {
        "id": "EZUvqYHDrmu_",
        "colab_type": "code",
        "colab": {
          "base_uri": "https://localhost:8080/",
          "height": 34
        },
        "outputId": "28da3d1e-4b44-422c-de8e-d72f412e8090"
      },
      "source": [
        "# Check paper math with computer\n",
        "# Create arrays for vectors c and d\n",
        "c = np.array([3, 7, -2, 12])\n",
        "d = np.array([9, -7, 4, 6])\n",
        "# Find dot product\n",
        "print('Dot product of c and d:', c.dot(d))"
      ],
      "execution_count": 78,
      "outputs": [
        {
          "output_type": "stream",
          "text": [
            "Dot product of c and d: 42\n"
          ],
          "name": "stdout"
        }
      ]
    },
    {
      "cell_type": "markdown",
      "metadata": {
        "id": "gS85sJHWG7iU",
        "colab_type": "text"
      },
      "source": [
        "## 1.4 Find $E^{-1}$ and $E^{T}$\n",
        "\n",
        "\\begin{align}\n",
        "E = \\begin{bmatrix}\n",
        "    7 & 4 & 2 \\\\\n",
        "    1 & 3 & -1 \\\\\n",
        "    2 & 6 & -4 \\end{bmatrix}\n",
        "\\end{align}\n",
        "\n",
        "$E^{-1}$ is the inverse matrix, calculated below\n",
        "\n",
        "\\begin{align}\\\\\n",
        "E^{-1} = \\begin{bmatrix}\n",
        "    0.18 & -0.82 & 0.29 \\\\\n",
        "    -0.06 & 0.94 & -0.26 \\\\\n",
        "    0 & 1 & -0.5 \\end{bmatrix}\n",
        "\\end{align}\n",
        "\n",
        "Here is $E^{T}$ calculated by hand\n",
        "\n",
        "\\begin{align}\\\\\n",
        "E^T = \\begin{bmatrix}\n",
        "    7 & 1 & 2 \\\\\n",
        "    4 & 3 & 6 \\\\\n",
        "    2 & -1 & -4 \\end{bmatrix}\n",
        "\\end{align}"
      ]
    },
    {
      "cell_type": "code",
      "metadata": {
        "id": "QiISq5egIgSS",
        "colab_type": "code",
        "colab": {
          "base_uri": "https://localhost:8080/",
          "height": 85
        },
        "outputId": "7cab6b51-f965-4fd6-cd6f-6ff9d3cb4e14"
      },
      "source": [
        "# Get inverse with Python\n",
        "e = np.array([[7, 4, 2],\n",
        "              [1, 3, -1],\n",
        "              [2, 6, -4]\n",
        "              ])\n",
        "print('E inverse:\\n', np.round(linalg.inv(e), 2))"
      ],
      "execution_count": 89,
      "outputs": [
        {
          "output_type": "stream",
          "text": [
            "E inverse:\n",
            " [[ 0.18 -0.82  0.29]\n",
            " [-0.06  0.94 -0.26]\n",
            " [ 0.    1.   -0.5 ]]\n"
          ],
          "name": "stdout"
        }
      ]
    },
    {
      "cell_type": "code",
      "metadata": {
        "id": "Qdef-GExvtuY",
        "colab_type": "code",
        "colab": {
          "base_uri": "https://localhost:8080/",
          "height": 187
        },
        "outputId": "4e76c276-2910-4a7f-c43d-b1e291b4a7ab"
      },
      "source": [
        "# Check transformation with computer\n",
        "import numpy as np\n",
        "f = np.array([[7, 4, 2],\n",
        "              [1, 3, -1],\n",
        "              [2, 6, -4]\n",
        "              ])\n",
        "print('f:\\n', f)\n",
        "print('transpose of F:\\n', f.T)\n",
        "print('dimensions of F:', f.shape)\n",
        "print('dimensions of F transposed:', f.T.shape)"
      ],
      "execution_count": 92,
      "outputs": [
        {
          "output_type": "stream",
          "text": [
            "f:\n",
            " [[ 7  4  2]\n",
            " [ 1  3 -1]\n",
            " [ 2  6 -4]]\n",
            "transpose of F:\n",
            " [[ 7  1  2]\n",
            " [ 4  3  6]\n",
            " [ 2 -1 -4]]\n",
            "dimensions of F: (3, 3)\n",
            "dimensions of F transposed: (3, 3)\n"
          ],
          "name": "stdout"
        }
      ]
    },
    {
      "cell_type": "markdown",
      "metadata": {
        "id": "_DFQHO2HcPNz",
        "colab_type": "text"
      },
      "source": [
        "## 1.5 Find $|F|$ - What is one reason why the determinant of a matrix would be 0? \n",
        "\n",
        "\\begin{align}\n",
        "F = \n",
        "\\begin{bmatrix}\n",
        "    2 & -2 & 5 \\\\\n",
        "    4 & 1 & 10 \\\\\n",
        "    12 & 6 & 30\n",
        "\\end{bmatrix}\n",
        "\\end{align}\n",
        "\n",
        "$|F|$ = 0 \\\\\n",
        "*The determinant of a matrix is zero if the transformation described by this matrix would make the area of a region so tranformed equal to zero. That region would be \"flattened out\" or \"squished\" all into a lower dimension.*"
      ]
    },
    {
      "cell_type": "markdown",
      "metadata": {
        "id": "TPzrKzEvC5YU",
        "colab_type": "text"
      },
      "source": [
        "# Intermediate Linear Algebra"
      ]
    },
    {
      "cell_type": "markdown",
      "metadata": {
        "id": "ap-us2lBGQyi",
        "colab_type": "text"
      },
      "source": [
        "## 2.1 Suppose that the number of customers at a ski resort as well as the number of inches of fresh powder (snow)  was recorded for 7 days. \n",
        "\n",
        "### Customers: [820, 760, 1250, 990, 1080, 1450, 1600]\n",
        "\n",
        "### Inches of new snow: [0, 1, 7, 1, 0, 6, 4 ]\n",
        "\n",
        "## Find the mean, sample variance, and sample standard deviation for both the number of customers and inches of new snow for the week. Remember that on SCs you can use library functions, dataframes, .describe(), etc. \n",
        "\n"
      ]
    },
    {
      "cell_type": "code",
      "metadata": {
        "id": "xS-JuHl9JiiP",
        "colab_type": "code",
        "colab": {}
      },
      "source": [
        "customers = [820, 760, 1250, 990, 1080, 1450, 1600]\n",
        "snow = [0, 1, 7, 1, 0, 6, 4]\n",
        "customers = np.array(customers)\n",
        "snow = np.array(snow)"
      ],
      "execution_count": 0,
      "outputs": []
    },
    {
      "cell_type": "code",
      "metadata": {
        "id": "cNxeVa0cg40d",
        "colab_type": "code",
        "colab": {
          "base_uri": "https://localhost:8080/",
          "height": 85
        },
        "outputId": "c377130b-3658-416a-cbd8-d9eab745413d"
      },
      "source": [
        "# Calculating the stats using library functions\n",
        "print('mean, variance, std of number of customers:\\n',\n",
        "      round(customers.mean(), 2),\n",
        "      round(customers.var(), 5),\n",
        "      round(customers.std(ddof=0), 2))\n",
        "print('mean, variance, std of new snow in Park City:\\n',\n",
        "      round(snow.mean(), 2),\n",
        "      round(snow.var(), 5),\n",
        "      round(snow.std(ddof=0), 2))"
      ],
      "execution_count": 99,
      "outputs": [
        {
          "output_type": "stream",
          "text": [
            "mean, variance, std of number of customers:\n",
            " 1135.71 84653.06122 290.95\n",
            "mean, variance, std of new snow in Park City:\n",
            " 2.71 7.34694 2.71\n"
          ],
          "name": "stdout"
        }
      ]
    },
    {
      "cell_type": "markdown",
      "metadata": {
        "id": "3ePJtK4VLTLH",
        "colab_type": "text"
      },
      "source": [
        "## 2.2 Are the variances of the number of customers and inches of snow comparable?\n",
        "\n",
        "### > *No*\n",
        "\n",
        "## Why or why not?\n",
        "\n",
        "### > *Because they are in different units of measure*"
      ]
    },
    {
      "cell_type": "markdown",
      "metadata": {
        "id": "ixhZVGxfGVFh",
        "colab_type": "text"
      },
      "source": [
        "## 2.3 Find the variance-covariance matrix for the number of customers and inches of snow at the ski resort. "
      ]
    },
    {
      "cell_type": "code",
      "metadata": {
        "id": "IbglmVaxJjO7",
        "colab_type": "code",
        "colab": {
          "base_uri": "https://localhost:8080/",
          "height": 68
        },
        "outputId": "296d25e0-4e0a-43e1-8787-d83d9bf7bf62"
      },
      "source": [
        "Z = np.stack((customers, snow), axis=0)\n",
        "print('Variance-covariance matrix for the number of customers and inches of snow:\\n', np.round(np.cov(Z),2))"
      ],
      "execution_count": 103,
      "outputs": [
        {
          "output_type": "stream",
          "text": [
            "Variance-covariance matrix for the number of customers and inches of snow:\n",
            " [[9.87619e+04 6.70240e+02]\n",
            " [6.70240e+02 8.57000e+00]]\n"
          ],
          "name": "stdout"
        }
      ]
    },
    {
      "cell_type": "markdown",
      "metadata": {
        "id": "6Ks3_TbNC5yJ",
        "colab_type": "text"
      },
      "source": [
        "# PCA"
      ]
    },
    {
      "cell_type": "markdown",
      "metadata": {
        "id": "f6qJAPaaOdzD",
        "colab_type": "text"
      },
      "source": [
        "## 3.1 Standardize the data so that it has a mean of 0 and a standard deviation of 1. \n",
        "\n",
        "We have included some code to get you started so that you don't get stuck on something that isn't standardizing the data or PCA.\n",
        "\n",
        "This might be helpful:\n",
        "\n",
        "<https://scikit-learn.org/stable/modules/generated/sklearn.preprocessing.StandardScaler.html>"
      ]
    },
    {
      "cell_type": "code",
      "metadata": {
        "id": "bogsxfNyJlAw",
        "colab_type": "code",
        "outputId": "2d5616e4-8e86-4354-ceeb-99e2aa9d1527",
        "colab": {
          "base_uri": "https://localhost:8080/",
          "height": 227
        }
      },
      "source": [
        "# Let me get you some data to start you off.\n",
        "import pandas as pd\n",
        "\n",
        "data = {\"Country\": [\"England\",\"Wales\",\"Scotland\",\"North Ireland\"], \n",
        "        \"Cheese\": [105,103,103,66], \n",
        "        \"Carcass_Meat\": [245,227,242,267], \n",
        "        \"Other_Meat\": [685, 803, 750, 586], \n",
        "        \"Fish\": [147, 160, 122, 93], \n",
        "        \"Fats_and_Oils\": [193, 235, 184, 209], \n",
        "        \"Sugars\": [156, 175, 147, 139], \n",
        "        \"Fresh_Potatoes\": [720, 874, 566, 1033], \n",
        "        \"Fresh_Veg\": [253, 265, 171, 143], \n",
        "        \"Other_Veg\": [488, 570, 418, 355], \n",
        "        \"Processed_Potatoes\": [198, 203, 220, 187], \n",
        "        \"Processed_Veg\": [360, 365, 337, 334], \n",
        "        \"Fresh_Fruit\": [1102, 1137, 957, 674], \n",
        "        \"Cereals\": [1472, 1582, 1462, 1494], \n",
        "        \"Beverages\": [57,73,53,47], \n",
        "        \"Soft_Drinks\": [1374, 1256, 1572, 1506], \n",
        "        \"Alcoholic Drinks\": [375, 475, 458, 135], \n",
        "        \"Confectionery\": [54, 64, 62, 41]}\n",
        "\n",
        "df = pd.DataFrame(data)\n",
        "\n",
        "# Look at the data\n",
        "df.head()"
      ],
      "execution_count": 18,
      "outputs": [
        {
          "output_type": "execute_result",
          "data": {
            "text/html": [
              "<div>\n",
              "<style scoped>\n",
              "    .dataframe tbody tr th:only-of-type {\n",
              "        vertical-align: middle;\n",
              "    }\n",
              "\n",
              "    .dataframe tbody tr th {\n",
              "        vertical-align: top;\n",
              "    }\n",
              "\n",
              "    .dataframe thead th {\n",
              "        text-align: right;\n",
              "    }\n",
              "</style>\n",
              "<table border=\"1\" class=\"dataframe\">\n",
              "  <thead>\n",
              "    <tr style=\"text-align: right;\">\n",
              "      <th></th>\n",
              "      <th>Country</th>\n",
              "      <th>Cheese</th>\n",
              "      <th>Carcass_Meat</th>\n",
              "      <th>Other_Meat</th>\n",
              "      <th>Fish</th>\n",
              "      <th>Fats_and_Oils</th>\n",
              "      <th>Sugars</th>\n",
              "      <th>Fresh_Potatoes</th>\n",
              "      <th>Fresh_Veg</th>\n",
              "      <th>Other_Veg</th>\n",
              "      <th>Processed_Potatoes</th>\n",
              "      <th>Processed_Veg</th>\n",
              "      <th>Fresh_Fruit</th>\n",
              "      <th>Cereals</th>\n",
              "      <th>Beverages</th>\n",
              "      <th>Soft_Drinks</th>\n",
              "      <th>Alcoholic Drinks</th>\n",
              "      <th>Confectionery</th>\n",
              "    </tr>\n",
              "  </thead>\n",
              "  <tbody>\n",
              "    <tr>\n",
              "      <th>0</th>\n",
              "      <td>England</td>\n",
              "      <td>105</td>\n",
              "      <td>245</td>\n",
              "      <td>685</td>\n",
              "      <td>147</td>\n",
              "      <td>193</td>\n",
              "      <td>156</td>\n",
              "      <td>720</td>\n",
              "      <td>253</td>\n",
              "      <td>488</td>\n",
              "      <td>198</td>\n",
              "      <td>360</td>\n",
              "      <td>1102</td>\n",
              "      <td>1472</td>\n",
              "      <td>57</td>\n",
              "      <td>1374</td>\n",
              "      <td>375</td>\n",
              "      <td>54</td>\n",
              "    </tr>\n",
              "    <tr>\n",
              "      <th>1</th>\n",
              "      <td>Wales</td>\n",
              "      <td>103</td>\n",
              "      <td>227</td>\n",
              "      <td>803</td>\n",
              "      <td>160</td>\n",
              "      <td>235</td>\n",
              "      <td>175</td>\n",
              "      <td>874</td>\n",
              "      <td>265</td>\n",
              "      <td>570</td>\n",
              "      <td>203</td>\n",
              "      <td>365</td>\n",
              "      <td>1137</td>\n",
              "      <td>1582</td>\n",
              "      <td>73</td>\n",
              "      <td>1256</td>\n",
              "      <td>475</td>\n",
              "      <td>64</td>\n",
              "    </tr>\n",
              "    <tr>\n",
              "      <th>2</th>\n",
              "      <td>Scotland</td>\n",
              "      <td>103</td>\n",
              "      <td>242</td>\n",
              "      <td>750</td>\n",
              "      <td>122</td>\n",
              "      <td>184</td>\n",
              "      <td>147</td>\n",
              "      <td>566</td>\n",
              "      <td>171</td>\n",
              "      <td>418</td>\n",
              "      <td>220</td>\n",
              "      <td>337</td>\n",
              "      <td>957</td>\n",
              "      <td>1462</td>\n",
              "      <td>53</td>\n",
              "      <td>1572</td>\n",
              "      <td>458</td>\n",
              "      <td>62</td>\n",
              "    </tr>\n",
              "    <tr>\n",
              "      <th>3</th>\n",
              "      <td>North Ireland</td>\n",
              "      <td>66</td>\n",
              "      <td>267</td>\n",
              "      <td>586</td>\n",
              "      <td>93</td>\n",
              "      <td>209</td>\n",
              "      <td>139</td>\n",
              "      <td>1033</td>\n",
              "      <td>143</td>\n",
              "      <td>355</td>\n",
              "      <td>187</td>\n",
              "      <td>334</td>\n",
              "      <td>674</td>\n",
              "      <td>1494</td>\n",
              "      <td>47</td>\n",
              "      <td>1506</td>\n",
              "      <td>135</td>\n",
              "      <td>41</td>\n",
              "    </tr>\n",
              "  </tbody>\n",
              "</table>\n",
              "</div>"
            ],
            "text/plain": [
              "         Country  Cheese  ...  Alcoholic Drinks  Confectionery\n",
              "0        England     105  ...               375             54\n",
              "1          Wales     103  ...               475             64\n",
              "2       Scotland     103  ...               458             62\n",
              "3  North Ireland      66  ...               135             41\n",
              "\n",
              "[4 rows x 18 columns]"
            ]
          },
          "metadata": {
            "tags": []
          },
          "execution_count": 18
        }
      ]
    },
    {
      "cell_type": "code",
      "metadata": {
        "id": "FoAhiikaffBw",
        "colab_type": "code",
        "colab": {
          "base_uri": "https://localhost:8080/",
          "height": 34
        },
        "outputId": "8efdfc64-ad3c-4a23-f4ee-314ae4e9e377"
      },
      "source": [
        "# Check for null values\n",
        "df.isnull().sum().any()"
      ],
      "execution_count": 23,
      "outputs": [
        {
          "output_type": "execute_result",
          "data": {
            "text/plain": [
              "False"
            ]
          },
          "metadata": {
            "tags": []
          },
          "execution_count": 23
        }
      ]
    },
    {
      "cell_type": "code",
      "metadata": {
        "id": "GYO8NBCQf5HO",
        "colab_type": "code",
        "colab": {
          "base_uri": "https://localhost:8080/",
          "height": 340
        },
        "outputId": "0cde3a36-1202-45b9-a98a-a26d2dc958cc"
      },
      "source": [
        "# Look at datatypes\n",
        "df.dtypes"
      ],
      "execution_count": 25,
      "outputs": [
        {
          "output_type": "execute_result",
          "data": {
            "text/plain": [
              "Country               object\n",
              "Cheese                 int64\n",
              "Carcass_Meat           int64\n",
              "Other_Meat             int64\n",
              "Fish                   int64\n",
              "Fats_and_Oils          int64\n",
              "Sugars                 int64\n",
              "Fresh_Potatoes         int64\n",
              "Fresh_Veg              int64\n",
              "Other_Veg              int64\n",
              "Processed_Potatoes     int64\n",
              "Processed_Veg          int64\n",
              "Fresh_Fruit            int64\n",
              "Cereals                int64\n",
              "Beverages              int64\n",
              "Soft_Drinks            int64\n",
              "Alcoholic Drinks       int64\n",
              "Confectionery          int64\n",
              "dtype: object"
            ]
          },
          "metadata": {
            "tags": []
          },
          "execution_count": 25
        }
      ]
    },
    {
      "cell_type": "code",
      "metadata": {
        "id": "YK4jJ_Xxfnyp",
        "colab_type": "code",
        "colab": {
          "base_uri": "https://localhost:8080/",
          "height": 51
        },
        "outputId": "1ed1b304-7922-4ac7-8fc8-618f888cb601"
      },
      "source": [
        "# Do another check for number of categorical vs numeric columns\n",
        "cat_cols = df.columns[df.dtypes=='object']\n",
        "num_cols = df.columns[df.dtypes!='object']\n",
        "\n",
        "print(f'{len(cat_cols)} categorical columns')\n",
        "print(f'{len(num_cols)} numerical columns')"
      ],
      "execution_count": 24,
      "outputs": [
        {
          "output_type": "stream",
          "text": [
            "1 categorical columns\n",
            "17 numerical columns\n"
          ],
          "name": "stdout"
        }
      ]
    },
    {
      "cell_type": "code",
      "metadata": {
        "id": "uGDLe--wgSdc",
        "colab_type": "code",
        "colab": {}
      },
      "source": [
        "# For PCA we need all numerical data, and for now\n",
        "# We can just make a copy of the data, dropping the country name\n",
        "# (We might add it back to use as a label later)\n",
        "df_original = df\n",
        "df = df.drop(columns='Country')"
      ],
      "execution_count": 0,
      "outputs": []
    },
    {
      "cell_type": "code",
      "metadata": {
        "id": "aYSKruiWg1Ep",
        "colab_type": "code",
        "colab": {
          "base_uri": "https://localhost:8080/",
          "height": 190
        },
        "outputId": "683c908f-949c-4c7f-94ee-95b262a12305"
      },
      "source": [
        "df.head()"
      ],
      "execution_count": 27,
      "outputs": [
        {
          "output_type": "execute_result",
          "data": {
            "text/html": [
              "<div>\n",
              "<style scoped>\n",
              "    .dataframe tbody tr th:only-of-type {\n",
              "        vertical-align: middle;\n",
              "    }\n",
              "\n",
              "    .dataframe tbody tr th {\n",
              "        vertical-align: top;\n",
              "    }\n",
              "\n",
              "    .dataframe thead th {\n",
              "        text-align: right;\n",
              "    }\n",
              "</style>\n",
              "<table border=\"1\" class=\"dataframe\">\n",
              "  <thead>\n",
              "    <tr style=\"text-align: right;\">\n",
              "      <th></th>\n",
              "      <th>Cheese</th>\n",
              "      <th>Carcass_Meat</th>\n",
              "      <th>Other_Meat</th>\n",
              "      <th>Fish</th>\n",
              "      <th>Fats_and_Oils</th>\n",
              "      <th>Sugars</th>\n",
              "      <th>Fresh_Potatoes</th>\n",
              "      <th>Fresh_Veg</th>\n",
              "      <th>Other_Veg</th>\n",
              "      <th>Processed_Potatoes</th>\n",
              "      <th>Processed_Veg</th>\n",
              "      <th>Fresh_Fruit</th>\n",
              "      <th>Cereals</th>\n",
              "      <th>Beverages</th>\n",
              "      <th>Soft_Drinks</th>\n",
              "      <th>Alcoholic Drinks</th>\n",
              "      <th>Confectionery</th>\n",
              "    </tr>\n",
              "  </thead>\n",
              "  <tbody>\n",
              "    <tr>\n",
              "      <th>0</th>\n",
              "      <td>105</td>\n",
              "      <td>245</td>\n",
              "      <td>685</td>\n",
              "      <td>147</td>\n",
              "      <td>193</td>\n",
              "      <td>156</td>\n",
              "      <td>720</td>\n",
              "      <td>253</td>\n",
              "      <td>488</td>\n",
              "      <td>198</td>\n",
              "      <td>360</td>\n",
              "      <td>1102</td>\n",
              "      <td>1472</td>\n",
              "      <td>57</td>\n",
              "      <td>1374</td>\n",
              "      <td>375</td>\n",
              "      <td>54</td>\n",
              "    </tr>\n",
              "    <tr>\n",
              "      <th>1</th>\n",
              "      <td>103</td>\n",
              "      <td>227</td>\n",
              "      <td>803</td>\n",
              "      <td>160</td>\n",
              "      <td>235</td>\n",
              "      <td>175</td>\n",
              "      <td>874</td>\n",
              "      <td>265</td>\n",
              "      <td>570</td>\n",
              "      <td>203</td>\n",
              "      <td>365</td>\n",
              "      <td>1137</td>\n",
              "      <td>1582</td>\n",
              "      <td>73</td>\n",
              "      <td>1256</td>\n",
              "      <td>475</td>\n",
              "      <td>64</td>\n",
              "    </tr>\n",
              "    <tr>\n",
              "      <th>2</th>\n",
              "      <td>103</td>\n",
              "      <td>242</td>\n",
              "      <td>750</td>\n",
              "      <td>122</td>\n",
              "      <td>184</td>\n",
              "      <td>147</td>\n",
              "      <td>566</td>\n",
              "      <td>171</td>\n",
              "      <td>418</td>\n",
              "      <td>220</td>\n",
              "      <td>337</td>\n",
              "      <td>957</td>\n",
              "      <td>1462</td>\n",
              "      <td>53</td>\n",
              "      <td>1572</td>\n",
              "      <td>458</td>\n",
              "      <td>62</td>\n",
              "    </tr>\n",
              "    <tr>\n",
              "      <th>3</th>\n",
              "      <td>66</td>\n",
              "      <td>267</td>\n",
              "      <td>586</td>\n",
              "      <td>93</td>\n",
              "      <td>209</td>\n",
              "      <td>139</td>\n",
              "      <td>1033</td>\n",
              "      <td>143</td>\n",
              "      <td>355</td>\n",
              "      <td>187</td>\n",
              "      <td>334</td>\n",
              "      <td>674</td>\n",
              "      <td>1494</td>\n",
              "      <td>47</td>\n",
              "      <td>1506</td>\n",
              "      <td>135</td>\n",
              "      <td>41</td>\n",
              "    </tr>\n",
              "  </tbody>\n",
              "</table>\n",
              "</div>"
            ],
            "text/plain": [
              "   Cheese  Carcass_Meat  ...  Alcoholic Drinks  Confectionery\n",
              "0     105           245  ...               375             54\n",
              "1     103           227  ...               475             64\n",
              "2     103           242  ...               458             62\n",
              "3      66           267  ...               135             41\n",
              "\n",
              "[4 rows x 17 columns]"
            ]
          },
          "metadata": {
            "tags": []
          },
          "execution_count": 27
        }
      ]
    },
    {
      "cell_type": "code",
      "metadata": {
        "id": "C-9gpfTSg5_z",
        "colab_type": "code",
        "colab": {
          "base_uri": "https://localhost:8080/",
          "height": 323
        },
        "outputId": "9df673d5-d030-42f8-e0ac-0232bdd44d06"
      },
      "source": [
        "# Now we have only numeric columns\n",
        "df.dtypes"
      ],
      "execution_count": 30,
      "outputs": [
        {
          "output_type": "execute_result",
          "data": {
            "text/plain": [
              "Cheese                int64\n",
              "Carcass_Meat          int64\n",
              "Other_Meat            int64\n",
              "Fish                  int64\n",
              "Fats_and_Oils         int64\n",
              "Sugars                int64\n",
              "Fresh_Potatoes        int64\n",
              "Fresh_Veg             int64\n",
              "Other_Veg             int64\n",
              "Processed_Potatoes    int64\n",
              "Processed_Veg         int64\n",
              "Fresh_Fruit           int64\n",
              "Cereals               int64\n",
              "Beverages             int64\n",
              "Soft_Drinks           int64\n",
              "Alcoholic Drinks      int64\n",
              "Confectionery         int64\n",
              "dtype: object"
            ]
          },
          "metadata": {
            "tags": []
          },
          "execution_count": 30
        }
      ]
    },
    {
      "cell_type": "code",
      "metadata": {
        "id": "2HY91nOpaTTZ",
        "colab_type": "code",
        "colab": {
          "base_uri": "https://localhost:8080/",
          "height": 255
        },
        "outputId": "b610d63a-0eff-41f4-d094-70c2b1f73cc5"
      },
      "source": [
        "# To standardize the data\n",
        "# Instantiate a Standard Scaler object\n",
        "scaler = StandardScaler()\n",
        "# and use it to fit_transform the data\n",
        "Z = scaler.fit_transform(df)\n",
        "print(\"\\n Standardized Data: \\n\", Z)\n"
      ],
      "execution_count": 34,
      "outputs": [
        {
          "output_type": "stream",
          "text": [
            "\n",
            " Standardized Data: \n",
            " [[ 0.65827466 -0.01749546 -0.25954622  0.64458535 -0.63242919  0.13055067\n",
            "  -0.45007561  0.86331183  0.37773603 -0.33626508  0.80547723  0.73740709\n",
            "  -0.64432226 -0.05191741 -0.43523112  0.10499766 -0.13830319]\n",
            " [ 0.53580495 -1.27716878  1.19885635  1.15244047  1.53589947  1.54795798\n",
            "   0.43569619  1.09352832  1.40168163  0.08406627  1.17160324  0.9292974\n",
            "   1.67946294  1.60943981 -1.40423624  0.84182336  0.96812236]\n",
            " [ 0.53580495 -0.22744102  0.54381113 -0.33205912 -1.09707105 -0.54085279\n",
            "  -1.33584741 -0.70983418 -0.49636387  1.51319287 -0.87870243 -0.0575671\n",
            "  -0.85557546 -0.46725672  1.19072664  0.71656299  0.74683725]\n",
            " [-1.72988456  1.52210526 -1.48312126 -1.4649667   0.19360077 -1.13765587\n",
            "   1.35022682 -1.24700598 -1.28305378 -1.26099406 -1.09837804 -1.60913739\n",
            "  -0.17956522 -1.09026568  0.64874072 -1.66338402 -1.57665641]]\n"
          ],
          "name": "stdout"
        }
      ]
    },
    {
      "cell_type": "markdown",
      "metadata": {
        "id": "5U50KZkdJb_s",
        "colab_type": "text"
      },
      "source": [
        "## 3.2 Perform PCA on the data and graph Principal Component 1 against Principal Component 2. \n",
        "\n",
        "This might be helpful:\n",
        "\n",
        "<https://scikit-learn.org/stable/modules/generated/sklearn.decomposition.PCA.html>"
      ]
    },
    {
      "cell_type": "code",
      "metadata": {
        "id": "RqjwVokgP1fL",
        "colab_type": "code",
        "colab": {
          "base_uri": "https://localhost:8080/",
          "height": 306
        },
        "outputId": "8106b8eb-61c8-4cbb-f405-1748af3357bd"
      },
      "source": [
        "# create the instance PCA(2) means retain 2 columns\n",
        "pca = PCA(2)\n",
        "# fit on data\n",
        "pca.fit(Z)\n",
        "# access values and vectors\n",
        "print(\"\\n Eigenvectors: \\n\", pca.components_)\n",
        "print(\"\\n Eigenvalues: \\n\",pca.explained_variance_)\n",
        "# transform data\n",
        "B = pca.transform(Z)\n",
        "print(\"\\n Projected Data: \\n\", B)"
      ],
      "execution_count": 35,
      "outputs": [
        {
          "output_type": "stream",
          "text": [
            "\n",
            " Eigenvectors: \n",
            " [[-0.24572131  0.28562914 -0.26481055 -0.28611787 -0.12719487 -0.2811012\n",
            "   0.09775901 -0.26544997 -0.28708628 -0.12073819 -0.25767815 -0.27890521\n",
            "  -0.17843996 -0.27747513  0.22771961 -0.25509484 -0.25275834]\n",
            " [ 0.24708041 -0.07716993  0.13610704 -0.01100602 -0.40054501 -0.13684092\n",
            "  -0.45468785 -0.0964863  -0.09282322  0.41036129 -0.1539603   0.08174644\n",
            "  -0.32902948 -0.13773847  0.29323981  0.23231808  0.21105701]]\n",
            "\n",
            " Eigenvalues: \n",
            " [15.48765084  5.63749203]\n",
            "\n",
            " Projected Data: \n",
            " [[-0.95448984  0.32831832]\n",
            " [-4.52095094 -1.73537967]\n",
            " [ 0.48797835  3.23367195]\n",
            " [ 4.98746242 -1.8266106 ]]\n"
          ],
          "name": "stdout"
        }
      ]
    },
    {
      "cell_type": "markdown",
      "metadata": {
        "id": "m_sdj4vvG_tg",
        "colab_type": "text"
      },
      "source": [
        "## 3.3 What are Eigenvalues and Eigenvectors? -In general, not just in PCA."
      ]
    },
    {
      "cell_type": "markdown",
      "metadata": {
        "id": "QlhJnyR2HUTR",
        "colab_type": "text"
      },
      "source": [
        "*Matrices can be thought of as describing a particular transformation of an input vector, meaning that the vector get flipped and/or squished and/or stretched in a way determined by the values in the matrix (and where those values are).*\n",
        "\n",
        "*The Eigenvectors of that matrix are the vectors that do not change their orientation during that transformation. They don't get \"knocked off\" their line.*\n",
        "\n",
        "*Each Eigenvector has associated with it an Eigenvalue. The Eigenvalue is the factor by which the Eigenvector is stretched or smushed (in its original span) during the transformation.*"
      ]
    },
    {
      "cell_type": "markdown",
      "metadata": {
        "id": "z-RzYKR0C6Wg",
        "colab_type": "text"
      },
      "source": [
        "# Clustering"
      ]
    },
    {
      "cell_type": "markdown",
      "metadata": {
        "id": "62efk4plJe54",
        "colab_type": "text"
      },
      "source": [
        "## 4.1 Use K-Means to cluster the following data and then graph your results. \n",
        "\n",
        "We have included some code to get you started so that you don't get stuck on something that isn't standardizing clustering.\n",
        "\n",
        "Prioritize calculating the clusters over graphing them. \n",
        "\n",
        "Scikit-Learn K-Means Documentation:\n",
        "\n",
        "<https://scikit-learn.org/stable/modules/generated/sklearn.cluster.KMeans.html>"
      ]
    },
    {
      "cell_type": "code",
      "metadata": {
        "id": "miK5Aeg-JlzJ",
        "colab_type": "code",
        "outputId": "bf2a4fca-3c84-4659-ca15-9c2b06b9b1f4",
        "colab": {
          "base_uri": "https://localhost:8080/",
          "height": 204
        }
      },
      "source": [
        "points = pd.read_csv('https://raw.githubusercontent.com/ryanleeallred/datasets/master/points.csv')\n",
        "points.head()"
      ],
      "execution_count": 37,
      "outputs": [
        {
          "output_type": "execute_result",
          "data": {
            "text/html": [
              "<div>\n",
              "<style scoped>\n",
              "    .dataframe tbody tr th:only-of-type {\n",
              "        vertical-align: middle;\n",
              "    }\n",
              "\n",
              "    .dataframe tbody tr th {\n",
              "        vertical-align: top;\n",
              "    }\n",
              "\n",
              "    .dataframe thead th {\n",
              "        text-align: right;\n",
              "    }\n",
              "</style>\n",
              "<table border=\"1\" class=\"dataframe\">\n",
              "  <thead>\n",
              "    <tr style=\"text-align: right;\">\n",
              "      <th></th>\n",
              "      <th>x</th>\n",
              "      <th>y</th>\n",
              "    </tr>\n",
              "  </thead>\n",
              "  <tbody>\n",
              "    <tr>\n",
              "      <th>0</th>\n",
              "      <td>-7.846803</td>\n",
              "      <td>-3.421277</td>\n",
              "    </tr>\n",
              "    <tr>\n",
              "      <th>1</th>\n",
              "      <td>-3.554323</td>\n",
              "      <td>-6.884729</td>\n",
              "    </tr>\n",
              "    <tr>\n",
              "      <th>2</th>\n",
              "      <td>-0.192822</td>\n",
              "      <td>-9.671030</td>\n",
              "    </tr>\n",
              "    <tr>\n",
              "      <th>3</th>\n",
              "      <td>-6.401456</td>\n",
              "      <td>-5.223972</td>\n",
              "    </tr>\n",
              "    <tr>\n",
              "      <th>4</th>\n",
              "      <td>-0.804026</td>\n",
              "      <td>-9.704457</td>\n",
              "    </tr>\n",
              "  </tbody>\n",
              "</table>\n",
              "</div>"
            ],
            "text/plain": [
              "          x         y\n",
              "0 -7.846803 -3.421277\n",
              "1 -3.554323 -6.884729\n",
              "2 -0.192822 -9.671030\n",
              "3 -6.401456 -5.223972\n",
              "4 -0.804026 -9.704457"
            ]
          },
          "metadata": {
            "tags": []
          },
          "execution_count": 37
        }
      ]
    },
    {
      "cell_type": "code",
      "metadata": {
        "id": "vhEPYvY5jlBI",
        "colab_type": "code",
        "colab": {
          "base_uri": "https://localhost:8080/",
          "height": 34
        },
        "outputId": "5a93ee5a-8829-46b2-f164-6d4b4525c914"
      },
      "source": [
        "# 200 rows, large enough to be useful\n",
        "points.shape"
      ],
      "execution_count": 44,
      "outputs": [
        {
          "output_type": "execute_result",
          "data": {
            "text/plain": [
              "(200, 2)"
            ]
          },
          "metadata": {
            "tags": []
          },
          "execution_count": 44
        }
      ]
    },
    {
      "cell_type": "code",
      "metadata": {
        "id": "qX0zKKznTzcI",
        "colab_type": "code",
        "colab": {
          "base_uri": "https://localhost:8080/",
          "height": 68
        },
        "outputId": "114081c6-c69e-4f4e-d61e-06c8d881ec83"
      },
      "source": [
        "# This is an unsupervised dataset\n",
        "# Just to be sure, check the datatypes\n",
        "points.dtypes"
      ],
      "execution_count": 38,
      "outputs": [
        {
          "output_type": "execute_result",
          "data": {
            "text/plain": [
              "x    float64\n",
              "y    float64\n",
              "dtype: object"
            ]
          },
          "metadata": {
            "tags": []
          },
          "execution_count": 38
        }
      ]
    },
    {
      "cell_type": "code",
      "metadata": {
        "id": "q66A0dkoib7b",
        "colab_type": "code",
        "colab": {
          "base_uri": "https://localhost:8080/",
          "height": 34
        },
        "outputId": "2d8a6816-b7e2-41e6-948f-8f76351d45c0"
      },
      "source": [
        "# Null values?\n",
        "points.isnull().sum().any()"
      ],
      "execution_count": 50,
      "outputs": [
        {
          "output_type": "execute_result",
          "data": {
            "text/plain": [
              "False"
            ]
          },
          "metadata": {
            "tags": []
          },
          "execution_count": 50
        }
      ]
    },
    {
      "cell_type": "code",
      "metadata": {
        "id": "6CV3qSB7iuVu",
        "colab_type": "code",
        "colab": {
          "base_uri": "https://localhost:8080/",
          "height": 281
        },
        "outputId": "c22999c4-4155-4f79-8d1c-18156c48e662"
      },
      "source": [
        "# There is no need to choose columns because\n",
        "# we only have two, and there are no nulls\n",
        "# or anything non-numeric\n",
        "area = np.pi*3\n",
        "plt.scatter(points.x, points.y, s=area, alpha=0.5)\n",
        "plt.title('Scatter plot says: try five clusters. Or four.')\n",
        "plt.show();"
      ],
      "execution_count": 58,
      "outputs": [
        {
          "output_type": "display_data",
          "data": {
            "image/png": "[encoded data removed]",
            "text/plain": [
              "<Figure size 432x288 with 1 Axes>"
            ]
          },
          "metadata": {
            "tags": []
          }
        }
      ]
    },
    {
      "cell_type": "code",
      "metadata": {
        "id": "kbLiqL7EjPwp",
        "colab_type": "code",
        "colab": {
          "base_uri": "https://localhost:8080/",
          "height": 295
        },
        "outputId": "011b4834-9240-4428-c5f7-241433ac86e7"
      },
      "source": [
        "# Scatter plot makes it look like there are either\n",
        "# 4 or 5 clusters, meaning k should be equal to\n",
        "# Either 4 or 5, so now check the eyeball intuition\n",
        "# With an elbow graph\n",
        "sum_of_squared_distances = []\n",
        "K = range(1,15)\n",
        "for k in K:\n",
        "    km = KMeans(n_clusters=k)\n",
        "    km = km.fit(points)\n",
        "    sum_of_squared_distances.append(km.inertia_)\n",
        "plt.plot(K, sum_of_squared_distances, 'bx-')\n",
        "plt.xlabel('k')\n",
        "plt.ylabel('Sum_of_squared_distances')\n",
        "plt.title('Elbow Method For Optimal k')\n",
        "plt.show()"
      ],
      "execution_count": 62,
      "outputs": [
        {
          "output_type": "display_data",
          "data": {
            "image/png": "[encoded data removed]",
            "text/plain": [
              "<Figure size 432x288 with 1 Axes>"
            ]
          },
          "metadata": {
            "tags": []
          }
        }
      ]
    },
    {
      "cell_type": "code",
      "metadata": {
        "id": "eeD2MNMKlrPH",
        "colab_type": "code",
        "colab": {
          "base_uri": "https://localhost:8080/",
          "height": 119
        },
        "outputId": "90823d14-a001-452c-f8fe-5d67149ce203"
      },
      "source": [
        "# Based on elbow plot, k=4 looks like a better \"elbow\" than k=5\n",
        "# Instantiate a new KMeans object, use it to cluster data\n",
        "# And get a number from 0 to 3 as a label of what cluster\n",
        "# Each row is assigned to\n",
        "kmeans = KMeans(n_clusters=4)\n",
        "kmeans.fit(points)\n",
        "labels = kmeans.labels_\n",
        "print(labels)"
      ],
      "execution_count": 65,
      "outputs": [
        {
          "output_type": "stream",
          "text": [
            "[3 0 0 3 0 0 3 3 2 0 0 0 0 0 3 0 3 0 0 1 3 1 1 1 0 0 0 2 0 0 0 0 0 1 0 0 0\n",
            " 0 2 0 0 1 2 2 2 0 0 0 3 0 1 3 3 2 1 0 0 2 2 3 1 0 3 2 1 2 1 2 3 2 0 0 0 0\n",
            " 1 1 0 0 2 1 2 0 0 0 2 0 2 0 0 1 2 0 1 0 0 0 0 0 0 0 0 0 3 0 0 1 3 3 3 1 0\n",
            " 1 0 3 0 0 2 2 1 2 1 0 0 3 0 3 0 1 2 3 0 3 0 3 2 2 0 1 3 0 2 0 0 1 0 2 0 2\n",
            " 3 0 0 0 3 1 0 2 0 1 0 3 0 0 2 3 1 1 0 2 0 0 3 0 2 1 0 0 0 0 0 3 0 0 0 0 0\n",
            " 0 3 1 2 0 0 3 1 3 0 2 1 1 0 0]\n"
          ],
          "name": "stdout"
        }
      ]
    },
    {
      "cell_type": "code",
      "metadata": {
        "id": "y5TFT4kZnkkz",
        "colab_type": "code",
        "colab": {
          "base_uri": "https://localhost:8080/",
          "height": 279
        },
        "outputId": "6402924e-69a4-4263-c107-9c0b3f1bd2a0"
      },
      "source": [
        "# Add the lables to the data\n",
        "points['cluster'] = pd.Series(labels).values\n",
        "\n",
        "# Graph using a modification of code from this week\n",
        "\n",
        "def get_centroids(df, column_header):\n",
        "  new_centroids = df.groupby(column_header).mean()\n",
        "  return new_centroids\n",
        "\n",
        "def plot_clusters(df, column_header, centroids):\n",
        "  colors = {0:'red', 1:'green', 2:'yellow', 3:'blue'}\n",
        "  fig, ax = plt.subplots()\n",
        "  ax.plot(centroids.iloc[0].x, centroids.iloc[0].y, \"ok\")\n",
        "  ax.plot(centroids.iloc[1].x, centroids.iloc[1].y, \"ok\")\n",
        "  ax.plot(centroids.iloc[2].x, centroids.iloc[2].y, \"ok\")\n",
        "  ax.plot(centroids.iloc[3].x, centroids.iloc[3].y, \"ok\")\n",
        "  grouped = df.groupby(column_header)\n",
        "  for key, group in grouped:\n",
        "      group.plot(ax=ax, kind='scatter', x='x', y='y', label=key, color=colors[key])\n",
        "  plt.show()\n",
        "\n",
        "centroids = get_centroids(points, 'cluster')\n",
        "plot_clusters(points, 'cluster', centroids)"
      ],
      "execution_count": 73,
      "outputs": [
        {
          "output_type": "display_data",
          "data": {
            "image/png": "[encoded data removed]",
            "text/plain": [
              "<Figure size 432x288 with 1 Axes>"
            ]
          },
          "metadata": {
            "tags": []
          }
        }
      ]
    },
    {
      "cell_type": "markdown",
      "metadata": {
        "id": "oxxNyhv_FGKB",
        "colab_type": "text"
      },
      "source": [
        "# Stretch Goals (AKA how to get a 3):\n",
        "\n",
        "Complete the stretch goals for each section in order to get a 3 on that section.\n",
        "\n",
        "## Parts 1 & 2 (do all of the following): \n",
        "  - Comment your code well with both markdown and inline comments where appropriate\n",
        "  - Show your work with code and possibly LaTeX \n",
        "  - Justify your answers particularly well to show advanced mastery of this section\n",
        "\n",
        "## Part 3 (do all of the following): \n",
        " - Create a Scree Plot to show the Proportion of Explained Variance of each Principal Component (more than the first two)\n",
        "    - If you want to include a the cumulative proportion of explained variance, you might be interested in this NumPy Function: [numpy.cumsum](https://docs.scipy.org/doc/numpy/reference/generated/numpy.cumsum.html)\n",
        " - Give a top-notch explanation of eigenvalues and eigenvectors. Feel free to any materials, images, code, graphs, LaTeX, etc. to spruce up your answer.\n",
        "\n",
        "## Part 4 (do all of the following):\n",
        "- Justify your choice of k, both visually (scatterplot) and mathematically (elbow plot)."
      ]
    }
  ]
}